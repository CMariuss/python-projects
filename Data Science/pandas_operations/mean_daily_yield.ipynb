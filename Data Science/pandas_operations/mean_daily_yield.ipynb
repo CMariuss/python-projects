{
 "cells": [
  {
   "cell_type": "code",
   "execution_count": 173,
   "metadata": {},
   "outputs": [],
   "source": [
    "import numpy as np\n",
    "import pandas as pd\n",
    "import seaborn as sns\n",
    "import matplotlib.pyplot as plt"
   ]
  },
  {
   "cell_type": "markdown",
   "metadata": {},
   "source": [
    "Save the data in a DataFrame"
   ]
  },
  {
   "cell_type": "code",
   "execution_count": 174,
   "metadata": {},
   "outputs": [],
   "source": [
    "solar_yield = pd.read_csv('dataset/Solar_Generation_Data.csv')"
   ]
  },
  {
   "cell_type": "markdown",
   "metadata": {},
   "source": [
    "Extract the 'DATE_TIME' column from DataFrame, and convert it into a numpy array"
   ]
  },
  {
   "cell_type": "code",
   "execution_count": 175,
   "metadata": {},
   "outputs": [],
   "source": [
    "date_time = solar_yield['DATE_TIME']\n",
    "np_array = np.array(date_time)\n",
    "d_m_y = np_array\n",
    "hh_mm = np_array"
   ]
  },
  {
   "cell_type": "markdown",
   "metadata": {},
   "source": [
    "Extract from numpy array only the day, month and year data time"
   ]
  },
  {
   "cell_type": "code",
   "execution_count": 176,
   "metadata": {},
   "outputs": [],
   "source": [
    "count = 0\n",
    "for count, np_1 in enumerate(np_array):\n",
    "    d_m_y[count] = np_1.replace(np_1[10:16], '')"
   ]
  },
  {
   "cell_type": "markdown",
   "metadata": {},
   "source": [
    "Convert the data into a DataFrame date time format"
   ]
  },
  {
   "cell_type": "code",
   "execution_count": 177,
   "metadata": {},
   "outputs": [],
   "source": [
    "day_manth_year = pd.to_datetime(d_m_y, format='%d-%m-%Y')"
   ]
  },
  {
   "cell_type": "markdown",
   "metadata": {},
   "source": [
    "Replace 'DATE_TIME' column data with date time format from above"
   ]
  },
  {
   "cell_type": "code",
   "execution_count": 178,
   "metadata": {},
   "outputs": [],
   "source": [
    "solar_yield['DATE_TIME'] = day_manth_year"
   ]
  },
  {
   "cell_type": "markdown",
   "metadata": {},
   "source": [
    "Print 'DATE_TIME' column to ensure that we have the right date time format"
   ]
  },
  {
   "cell_type": "code",
   "execution_count": 179,
   "metadata": {},
   "outputs": [
    {
     "name": "stdout",
     "output_type": "stream",
     "text": [
      "0       2020-05-15\n",
      "1       2020-05-15\n",
      "2       2020-05-15\n",
      "3       2020-05-15\n",
      "4       2020-05-15\n",
      "           ...    \n",
      "68773   2020-06-17\n",
      "68774   2020-06-17\n",
      "68775   2020-06-17\n",
      "68776   2020-06-17\n",
      "68777   2020-06-17\n",
      "Name: DATE_TIME, Length: 68778, dtype: datetime64[ns]\n"
     ]
    }
   ],
   "source": [
    "print(solar_yield['DATE_TIME'])"
   ]
  },
  {
   "cell_type": "markdown",
   "metadata": {},
   "source": [
    "Extract the data from May 15, and June 15"
   ]
  },
  {
   "cell_type": "code",
   "execution_count": 180,
   "metadata": {},
   "outputs": [],
   "source": [
    "yield_15_05 = solar_yield.where((solar_yield['DATE_TIME'].dt.month == 5) & (solar_yield['DATE_TIME'].dt.day == 15))\n",
    "yield_15_06 = solar_yield.where((solar_yield['DATE_TIME'].dt.month == 6) & (solar_yield['DATE_TIME'].dt.day == 15))"
   ]
  },
  {
   "cell_type": "markdown",
   "metadata": {},
   "source": [
    "Get the mean values for both May 15 and June 15"
   ]
  },
  {
   "cell_type": "code",
   "execution_count": 181,
   "metadata": {},
   "outputs": [],
   "source": [
    "yield_15_05_mean = yield_15_05['DAILY_YIELD'].mean()\n",
    "yield_15_06_mean = yield_15_06['DAILY_YIELD'].mean()"
   ]
  },
  {
   "cell_type": "markdown",
   "metadata": {},
   "source": [
    "Print the result mean yield from May 15 and June 15"
   ]
  },
  {
   "cell_type": "code",
   "execution_count": 182,
   "metadata": {},
   "outputs": [
    {
     "name": "stdout",
     "output_type": "stream",
     "text": [
      "\n",
      "Mean yield from May 15\n",
      "2586.279925795714\n",
      "\n",
      "Mean yield from June 15\n",
      "3379.4663064828014\n"
     ]
    }
   ],
   "source": [
    "print('\\nMean yield from May 15')\n",
    "print(yield_15_05_mean)\n",
    "print('\\nMean yield from June 15')\n",
    "print(yield_15_06_mean)"
   ]
  },
  {
   "cell_type": "markdown",
   "metadata": {},
   "source": [
    "Create a DataFrame that will contain the results from above"
   ]
  },
  {
   "cell_type": "code",
   "execution_count": 183,
   "metadata": {},
   "outputs": [],
   "source": [
    "data_frame = pd.DataFrame([yield_15_05_mean, yield_15_06_mean], index=['May 15', 'June 15'])"
   ]
  },
  {
   "cell_type": "code",
   "execution_count": 184,
   "metadata": {},
   "outputs": [
    {
     "data": {
      "image/png": "[encoded data removed]",
      "text/plain": [
       "<Figure size 640x480 with 1 Axes>"
      ]
     },
     "metadata": {},
     "output_type": "display_data"
    }
   ],
   "source": [
    "# cream graficul cu functia barch() din matplotlib cu culoarea orange\n",
    "data_frame.plot.bar(color=['orange'])\n",
    "\n",
    "# rotim textul de pe axa x\n",
    "plt.xticks(rotation='horizontal')\n",
    "# setam titlul graficului\n",
    "plt.title('Solar yield with a difference of one month')\n",
    "# setam un label axei x\n",
    "plt.xlabel('Data')\n",
    "plt.ylabel('Mean')\n",
    "plt.legend().remove()\n",
    "# afisam graficul\n",
    "plt.show()"
   ]
  }
 ],
 "metadata": {
  "kernelspec": {
   "display_name": "Python 3",
   "language": "python",
   "name": "python3"
  },
  "language_info": {
   "codemirror_mode": {
    "name": "ipython",
    "version": 3
   },
   "file_extension": ".py",
   "mimetype": "text/x-python",
   "name": "python",
   "nbconvert_exporter": "python",
   "pygments_lexer": "ipython3",
   "version": "3.13.0"
  }
 },
 "nbformat": 4,
 "nbformat_minor": 2
}
